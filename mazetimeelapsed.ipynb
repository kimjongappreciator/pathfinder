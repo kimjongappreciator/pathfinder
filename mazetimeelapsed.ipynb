{
  "nbformat": 4,
  "nbformat_minor": 0,
  "metadata": {
    "colab": {
      "name": "mazetimeelapsed.ipynb",
      "provenance": []
    },
    "kernelspec": {
      "name": "python3",
      "display_name": "Python 3"
    }
  },
  "cells": [
    {
      "cell_type": "code",
      "metadata": {
        "id": "Bwq-Tk5bdxcL"
      },
      "source": [
        "import queue\n",
        "import time\n",
        "\n",
        "def createMaze():\n",
        "    maze = []\n",
        "    maze.append([\"#\",\"#\", \"#\", \"#\", \"#\", \"O\",\"#\"])\n",
        "    maze.append([\"#\",\" \", \" \", \" \", \"#\", \" \",\"#\"])\n",
        "    maze.append([\"#\",\" \", \"#\", \" \", \"#\", \" \",\"#\"])\n",
        "    maze.append([\"#\",\" \", \"#\", \" \", \" \", \" \",\"#\"])\n",
        "    maze.append([\"#\",\" \", \"#\", \" \", \"#\", \" \",\"#\"])\n",
        "    maze.append([\"#\",\" \", \" \", \" \", \"#\", \" \",\"#\"])\n",
        "    maze.append([\"#\",\"#\", \"#\", \"#\", \"#\", \"X\",\"#\"])\n",
        "\n",
        "    return maze\n",
        "\n",
        "def createMaze2():\n",
        "    maze = []\n",
        "    maze.append([\"#\",\"#\", \"#\", \"#\", \"#\", \"O\", \"#\", \"#\", \"#\"])\n",
        "    maze.append([\"#\",\" \", \" \", \" \", \" \", \" \", \" \", \" \", \"#\"])\n",
        "    maze.append([\"#\",\" \", \"#\", \"#\", \" \", \"#\", \"#\", \" \", \"#\"])\n",
        "    maze.append([\"#\",\" \", \"#\", \" \", \" \", \" \", \"#\", \" \", \"#\"])\n",
        "    maze.append([\"#\",\" \", \"#\", \" \", \"#\", \" \", \"#\", \" \", \"#\"])\n",
        "    maze.append([\"#\",\" \", \"#\", \" \", \"#\", \" \", \"#\", \" \", \"#\"])\n",
        "    maze.append([\"#\",\" \", \"#\", \" \", \"#\", \" \", \"#\", \"#\", \"#\"])\n",
        "    maze.append([\"#\",\" \", \" \", \" \", \" \", \" \", \" \", \" \", \"#\"])\n",
        "    maze.append([\"#\",\"#\", \"#\", \"#\", \"#\", \"X\", \"#\", \"#\", \"#\"])\n",
        "\n",
        "    return maze\n",
        "\n",
        "\n"
      ],
      "execution_count": 3,
      "outputs": []
    },
    {
      "cell_type": "code",
      "metadata": {
        "id": "s00-ZxWziy4B"
      },
      "source": [
        "def printMaze(maze, path=\"\"):\n",
        "    for x, pos in enumerate(maze[0]):\n",
        "        if pos == \"O\":\n",
        "            start = x\n",
        "\n",
        "    i = start\n",
        "    j = 0\n",
        "    pos = set()\n",
        "    for move in path:\n",
        "        if move == \"L\":\n",
        "            i -= 1\n",
        "\n",
        "        elif move == \"R\":\n",
        "            i += 1\n",
        "\n",
        "        elif move == \"U\":\n",
        "            j -= 1\n",
        "\n",
        "        elif move == \"D\":\n",
        "            j += 1\n",
        "        pos.add((j, i))\n",
        "    \n",
        "    for j, row in enumerate(maze):\n",
        "        for i, col in enumerate(row):\n",
        "            if (j, i) in pos:\n",
        "                print(\"+ \", end=\"\")\n",
        "            else:\n",
        "                print(col + \" \", end=\"\")\n",
        "        print()\n",
        "        \n",
        "\n",
        "\n",
        "def valid(maze, moves):\n",
        "    for x, pos in enumerate(maze[0]):\n",
        "        if pos == \"O\":\n",
        "            start = x\n",
        "\n",
        "    i = start\n",
        "    j = 0\n",
        "    for move in moves:\n",
        "        if move == \"L\":\n",
        "            i -= 1\n",
        "\n",
        "        elif move == \"R\":\n",
        "            i += 1\n",
        "\n",
        "        elif move == \"U\":\n",
        "            j -= 1\n",
        "\n",
        "        elif move == \"D\":\n",
        "            j += 1\n",
        "\n",
        "        if not(0 <= i < len(maze[0]) and 0 <= j < len(maze)):\n",
        "            return False\n",
        "        elif (maze[j][i] == \"#\"):\n",
        "            return False\n",
        "\n",
        "    return True\n",
        "\n",
        "\n",
        "def findEnd(maze, moves):\n",
        "    for x, pos in enumerate(maze[0]):\n",
        "        if pos == \"O\":\n",
        "            start = x\n",
        "\n",
        "    i = start\n",
        "    j = 0\n",
        "    for move in moves:\n",
        "        if move == \"L\":\n",
        "            i -= 1\n",
        "\n",
        "        elif move == \"R\":\n",
        "            i += 1\n",
        "\n",
        "        elif move == \"U\":\n",
        "            j -= 1\n",
        "\n",
        "        elif move == \"D\":\n",
        "            j += 1\n",
        "\n",
        "    if maze[j][i] == \"X\":\n",
        "        #print(\"Found: \" + moves)\n",
        "        #printMaze(maze, moves)\n",
        "        return True\n",
        "\n",
        "    return False\n",
        "\n",
        "\n",
        "# MAIN ALGORITHM\n",
        "#BFS\n",
        "def main():\n",
        "    nums = queue.Queue()\n",
        "    nums.put(\"\")\n",
        "    add = \"\"\n",
        "    maze  = createMaze()\n",
        "    start = time.time()\n",
        "\n",
        "    while not findEnd(maze, add): \n",
        "        add = nums.get()\n",
        "        #print(add)\n",
        "        for j in [\"L\", \"R\", \"U\", \"D\"]:\n",
        "            put = add + j\n",
        "            if valid(maze, put):\n",
        "                nums.put(put)\n",
        "    end = time.time()\n",
        "\n",
        "    #print(\"elapsed time\",end - start)"
      ],
      "execution_count": 7,
      "outputs": []
    },
    {
      "cell_type": "code",
      "metadata": {
        "colab": {
          "base_uri": "https://localhost:8080/"
        },
        "id": "5tXlXiml3XPv",
        "outputId": "dbcbde9b-acbe-4aac-aa9b-2f99bdf6cfac"
      },
      "source": [
        "%timeit main()"
      ],
      "execution_count": 8,
      "outputs": [
        {
          "output_type": "stream",
          "text": [
            "The slowest run took 5.38 times longer than the fastest. This could mean that an intermediate result is being cached.\n",
            "1000 loops, best of 3: 1.05 ms per loop\n"
          ],
          "name": "stdout"
        }
      ]
    },
    {
      "cell_type": "code",
      "metadata": {
        "id": "UdxEFlDdze75"
      },
      "source": [
        "def DFSsolver(maze, destination, start, path=[], passed=[]):\n",
        "    (x,y) = start \n",
        "\n",
        "    \n",
        "\n",
        "    if (x,y) not in passed:\n",
        "        path.append((x, y))\n",
        "        passed.append((x, y))\n",
        "\n",
        "    \n",
        "    if (x,y) == destination:\n",
        "        return path\n",
        "\n",
        "    \n",
        "    else:\n",
        "        pointqueue = [(x - 1, y), (x, y - 1), (x + 1, y), (x, y + 1)]\n",
        "        queue = []\n",
        "        for point in pointqueue:\n",
        "           \n",
        "            if len(maze)-1 >= point[1] >= 0 and len(maze[0])-1 >= point[0] >= 0:\n",
        "                \n",
        "                if maze[point[1]][point[0]] == \" \" and point not in passed:\n",
        "                    queue.append(point)\n",
        "\n",
        "       \n",
        "        if len(queue)!= 0:\n",
        "            for point in queue:\n",
        "                return DFSsolver(maze, destination, point, path)\n",
        "\n",
        "       \n",
        "        else:\n",
        "            path.remove((x, y))\n",
        "            return DFSsolver(maze, destination, path[-1], path)"
      ],
      "execution_count": null,
      "outputs": []
    },
    {
      "cell_type": "code",
      "metadata": {
        "id": "rCRDuBAdziR3",
        "colab": {
          "base_uri": "https://localhost:8080/"
        },
        "outputId": "f7441b06-7fd3-47ac-9029-af7c0cca83fb"
      },
      "source": [
        "destination = (5,5)\n",
        "start = (5,0)\n",
        "tstart = time.time()\n",
        "m = DFSsolver(createMaze(), destination, start)\n",
        "tend = time.time()\n",
        "print(m)\n",
        "print(\"time elapsed: \", tend-tstart)"
      ],
      "execution_count": null,
      "outputs": [
        {
          "output_type": "stream",
          "text": [
            "[(5, 0), (5, 1), (5, 2), (5, 3), (5, 4), (5, 5)]\n",
            "time elapsed:  0.0002753734588623047\n"
          ],
          "name": "stdout"
        }
      ]
    },
    {
      "cell_type": "code",
      "metadata": {
        "id": "zaJ4t0du3oNO"
      },
      "source": [
        "def bruteforce(deck, x, y):\n",
        "    cola = []\n",
        "    maze = deck\n",
        "    counter = 0\n",
        "    j = y\n",
        "    i = x\n",
        "    \n",
        "\n",
        "    while True:\n",
        "        \n",
        "        maze[i][j] = 1\n",
        "        if maze[i][j+1] == \"X\":\n",
        "            break\n",
        "        elif maze[i][j-1] == \"X\":\n",
        "            break\n",
        "        elif maze[i+1][j] == \"X\":\n",
        "            break\n",
        "        elif maze[i-1][j] == \"X\":\n",
        "            break\n",
        "            \n",
        "        elif maze[i][j+1] == \" \":\n",
        "            #print(\"d\")\n",
        "            cola.append(\"d\")\n",
        "            counter +=1\n",
        "            j += 1\n",
        "        elif maze[i][j-1] == \" \":\n",
        "            #print(\"u\")\n",
        "            cola.append(\"u\")\n",
        "            counter+=1\n",
        "            j -=1\n",
        "        elif maze[i+1][j] == \" \":\n",
        "            #print(\"r\")\n",
        "            cola.append(\"r\")\n",
        "            counter+=1\n",
        "            i+=1\n",
        "        elif maze[i-1][j] == \" \":\n",
        "            #print(\"l\")\n",
        "            cola.append(\"l\")\n",
        "            counter+=1\n",
        "            i-=1\n",
        "    \n",
        "                 \n",
        "    #print(cola)\n",
        "    return cola"
      ],
      "execution_count": null,
      "outputs": []
    },
    {
      "cell_type": "code",
      "metadata": {
        "id": "8IO_Pbna3vM0",
        "colab": {
          "base_uri": "https://localhost:8080/"
        },
        "outputId": "9e189392-685a-415a-ebdd-ee414d64d29e"
      },
      "source": [
        "#t0 = time.time()\n",
        "%timeit bruteforce(createMaze2(), 0,5)\n",
        "#t1 =time.time()\n",
        "#print(\"time elapsed: \", t1 - t0)"
      ],
      "execution_count": null,
      "outputs": [
        {
          "output_type": "stream",
          "text": [
            "The slowest run took 5.38 times longer than the fastest. This could mean that an intermediate result is being cached.\n",
            "1000000 loops, best of 3: 1.48 µs per loop\n"
          ],
          "name": "stdout"
        }
      ]
    },
    {
      "cell_type": "code",
      "metadata": {
        "id": "0OEVhGTpVSNe"
      },
      "source": [
        "\n"
      ],
      "execution_count": null,
      "outputs": []
    }
  ]
}